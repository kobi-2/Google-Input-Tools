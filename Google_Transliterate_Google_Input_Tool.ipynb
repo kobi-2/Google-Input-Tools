{
  "nbformat": 4,
  "nbformat_minor": 0,
  "metadata": {
    "colab": {
      "name": "Google Transliterate - Google Input Tool.ipynb",
      "provenance": [],
      "collapsed_sections": [],
      "toc_visible": true,
      "authorship_tag": "ABX9TyPVQUSobXZbWxbZgsDgp9FY",
      "include_colab_link": true
    },
    "kernelspec": {
      "name": "python3",
      "display_name": "Python 3"
    },
    "language_info": {
      "name": "python"
    }
  },
  "cells": [
    {
      "cell_type": "markdown",
      "metadata": {
        "id": "view-in-github",
        "colab_type": "text"
      },
      "source": [
        "<a href=\"https://colab.research.google.com/github/kobi-2/Google-Transliterate-Input-Tools/blob/main/Google_Transliterate_Google_Input_Tool.ipynb\" target=\"_parent\"><img src=\"https://colab.research.google.com/assets/colab-badge.svg\" alt=\"Open In Colab\"/></a>"
      ]
    },
    {
      "cell_type": "code",
      "metadata": {
        "colab": {
          "base_uri": "https://localhost:8080/",
          "height": 179
        },
        "id": "2-iNiqYJxdYX",
        "outputId": "b5f4fe54-97a6-440e-bfda-ca29f030d6f8"
      },
      "source": [
        "!pip install google-transliteration-api"
      ],
      "execution_count": 1,
      "outputs": [
        {
          "output_type": "stream",
          "text": [
            "Collecting google-transliteration-api\n",
            "  Downloading https://files.pythonhosted.org/packages/a9/d3/a7cc059b0c47c11a6059733d5b3a294b98239af259078830ecaf6e917a0f/google_transliteration_api-1.0.3-py3-none-any.whl\n",
            "Installing collected packages: google-transliteration-api\n",
            "Successfully installed google-transliteration-api-1.0.3\n"
          ],
          "name": "stdout"
        },
        {
          "output_type": "display_data",
          "data": {
            "application/vnd.colab-display-data+json": {
              "pip_warning": {
                "packages": [
                  "google"
                ]
              }
            }
          },
          "metadata": {
            "tags": []
          }
        }
      ]
    },
    {
      "cell_type": "markdown",
      "metadata": {
        "id": "nCyWBgotyHT_"
      },
      "source": [
        "## Language code: [github link](https://github.com/narVidhai/Google-Transliterate-API/blob/master/Languages.md)"
      ]
    },
    {
      "cell_type": "code",
      "metadata": {
        "colab": {
          "base_uri": "https://localhost:8080/"
        },
        "id": "uiWgYNvmxq-_",
        "outputId": "427dd45b-8e10-4320-e2dc-1a450a126ffd"
      },
      "source": [
        "from google.transliteration import transliterate_word\n",
        "suggestions = transliterate_word('ami banglay gaan gai', lang_code='bn')\n",
        "print(suggestions)"
      ],
      "execution_count": 2,
      "outputs": [
        {
          "output_type": "stream",
          "text": [
            "['আমি বাংলায় গান গাই', 'আমি বাংলায় গান গায়', 'আমি বাংলার গান গাই', 'আমি বাংলায় গান গেয়ে', 'আমি বাংলায় গান গাও', 'আমি বাংলায় গান গায়ে']\n"
          ],
          "name": "stdout"
        }
      ]
    },
    {
      "cell_type": "code",
      "metadata": {
        "id": "7bSAIDoKjATB",
        "colab": {
          "base_uri": "https://localhost:8080/"
        },
        "outputId": "99d4e399-7e05-4cba-ad62-cf3f81bfd415"
      },
      "source": [
        "suggestions = transliterate_word('aami banglay gaan gaai', lang_code='bn')\n",
        "print(suggestions)"
      ],
      "execution_count": 3,
      "outputs": [
        {
          "output_type": "stream",
          "text": [
            "['আমি বাংলায় গান গাই', 'আমি বাংলায় গান গায়', 'আমি বাংলার গান গাই', 'আমিঃ বাংলায় গান গাই', 'আমি বাংলায় গান গাওয়া', 'আমি বাংলায় গান গেয়েই']\n"
          ],
          "name": "stdout"
        }
      ]
    },
    {
      "cell_type": "code",
      "metadata": {
        "colab": {
          "base_uri": "https://localhost:8080/"
        },
        "id": "M8QovH3iU9L_",
        "outputId": "a7fdf321-7e14-4691-886a-e6d2f67f4f71"
      },
      "source": [
        "\n",
        "suggestions = transliterate_word('1234567890', lang_code='bn')\n",
        "print(suggestions)"
      ],
      "execution_count": 4,
      "outputs": [
        {
          "output_type": "stream",
          "text": [
            "['১২৩৪৫৬৭৮৯০']\n"
          ],
          "name": "stdout"
        }
      ]
    },
    {
      "cell_type": "code",
      "metadata": {
        "colab": {
          "base_uri": "https://localhost:8080/"
        },
        "id": "inN_djVEyBBf",
        "outputId": "1977c62c-3784-4925-b256-e4148513821f"
      },
      "source": [
        "from google.transliteration import transliterate_numerals\n",
        "result = transliterate_numerals('3210 5689', lang_code='bn')\n",
        "print(result)"
      ],
      "execution_count": 5,
      "outputs": [
        {
          "output_type": "stream",
          "text": [
            "৩২১০ ৫৬৮৯\n"
          ],
          "name": "stdout"
        }
      ]
    },
    {
      "cell_type": "markdown",
      "metadata": {
        "id": "2zImyC27zDn3"
      },
      "source": [
        "\n",
        "\n",
        "---\n",
        "\n",
        "\n",
        "\n",
        "---\n",
        "\n",
        "\n",
        "\n",
        "---\n",
        "\n"
      ]
    },
    {
      "cell_type": "markdown",
      "metadata": {
        "id": "R92hYzy1zFZt"
      },
      "source": [
        "## Package installed in: /usr/local/lib/python3.7/dist-packages/"
      ]
    },
    {
      "cell_type": "code",
      "metadata": {
        "id": "mcmfwlFtzIwH"
      },
      "source": [
        "!ls /usr/local/lib/python3.7/dist-packages/"
      ],
      "execution_count": null,
      "outputs": []
    },
    {
      "cell_type": "code",
      "metadata": {
        "id": "X_mE-pNzzWnP",
        "colab": {
          "base_uri": "https://localhost:8080/"
        },
        "outputId": "be0c6d50-d2df-481d-81f6-874a83e3d237"
      },
      "source": [
        "!ls /usr/local/lib/python3.7/dist-packages/google_transliteration_api-1.0.3.dist-info/"
      ],
      "execution_count": 7,
      "outputs": [
        {
          "output_type": "stream",
          "text": [
            "INSTALLER  METADATA  RECORD  top_level.txt  WHEEL\n"
          ],
          "name": "stdout"
        }
      ]
    }
  ]
}